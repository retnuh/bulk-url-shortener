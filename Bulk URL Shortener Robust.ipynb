{
 "cells": [
  {
   "cell_type": "code",
   "execution_count": 2,
   "metadata": {
    "collapsed": true
   },
   "outputs": [],
   "source": [
    "from bs4 import BeautifulSoup\n",
    "import urllib.request\n",
    "import urllib.parse\n",
    "import re\n",
    "import time\n",
    "import csv"
   ]
  },
  {
   "cell_type": "code",
   "execution_count": 17,
   "metadata": {
    "collapsed": true
   },
   "outputs": [],
   "source": [
    "HTTP_PATTERN = re.compile(r\"https?://.*\")\n",
    "DEFAULT_PARSER = \"lxml\"\n",
    "\n",
    "def tinyurl(url):\n",
    "    if not HTTP_PATTERN.match(url):\n",
    "        return None\n",
    "    try:\n",
    "        encoded_url = urllib.parse.urlencode({\"url\": url})\n",
    "        body = urllib.request.urlopen('https://tinyurl.com/create.php?' + encoded_url).read()\n",
    "        soup = BeautifulSoup(body, DEFAULT_PARSER)\n",
    "        return soup.find_all(\"b\")[1].get_text()\n",
    "    except:\n",
    "        return None"
   ]
  },
  {
   "cell_type": "code",
   "execution_count": 18,
   "metadata": {
    "collapsed": false
   },
   "outputs": [
    {
     "data": {
      "text/plain": [
       "'https://tinyurl.com/gm9e3'"
      ]
     },
     "execution_count": 18,
     "metadata": {},
     "output_type": "execute_result"
    }
   ],
   "source": [
    "tinyurl(\"https://tinyurl.com/\")"
   ]
  },
  {
   "cell_type": "code",
   "execution_count": 22,
   "metadata": {
    "collapsed": false
   },
   "outputs": [],
   "source": [
    "def fetch_tinyurls(batch, sleep=1):\n",
    "    urls = []\n",
    "    i = 1\n",
    "    for url in batch:\n",
    "        if not url:\n",
    "            break\n",
    "        su = url.strip()\n",
    "        tu = tinyurl(su)\n",
    "        if tu:\n",
    "            t = (tu, su)\n",
    "            urls.append(t)\n",
    "            print('\\r', i, t, end='')\n",
    "        i += 1\n",
    "        time.sleep(sleep)\n",
    "    return urls"
   ]
  },
  {
   "cell_type": "code",
   "execution_count": 6,
   "metadata": {
    "collapsed": true
   },
   "outputs": [],
   "source": [
    "import itertools\n",
    "\n",
    "def grouper(iterable, n, fillvalue=None):\n",
    "    \"Collect data into fixed-length chunks or blocks\"\n",
    "    # grouper('ABCDEFG', 3, 'x') --> ABC DEF Gxx\"\n",
    "    args = [iter(iterable)] * n\n",
    "    return itertools.zip_longest(*args, fillvalue=fillvalue)\n"
   ]
  },
  {
   "cell_type": "code",
   "execution_count": 10,
   "metadata": {
    "collapsed": true
   },
   "outputs": [],
   "source": [
    "def write_tinyurls(tinyurl_tuples, output_filename):\n",
    "    with open(output_filename, \"a\", newline='') as out:\n",
    "        csv.writer(out).writerows(tinyurl_tuples)\n",
    "        "
   ]
  },
  {
   "cell_type": "code",
   "execution_count": 25,
   "metadata": {
    "collapsed": true
   },
   "outputs": [],
   "source": [
    "def bulk_shorten(input_filename, output_filename, sleep=1, skip_to=1, batch_size=1000):\n",
    "    batch_num = 1\n",
    "    with open(input_filename) as file:\n",
    "        for batch in grouper(file, batch_size):\n",
    "            if batch_num >= skip_to:\n",
    "                tinyurl_tuples = fetch_tinyurls(batch, sleep)\n",
    "                write_tinyurls(tinyurl_tuples, output_filename)\n",
    "                print(\"\\nCompleted batch:\", batch_num)\n",
    "            else:\n",
    "                print(\"\\nSkipping batch:\", batch_num)\n",
    "            print()\n",
    "            batch_num += 1"
   ]
  },
  {
   "cell_type": "code",
   "execution_count": 27,
   "metadata": {
    "collapsed": false
   },
   "outputs": [
    {
     "name": "stdout",
     "output_type": "stream",
     "text": [
      " 1000 ('https://tinyurl.com/gvzwpqr', 'http://c2.com/cgi/wiki?JouleLanguage')\n",
      "Completed batch: 1\n",
      "\n",
      " 1000 ('https://tinyurl.com/jsz5uxb', 'http://www.lib.ua.edu/wiki/digcoll/index.php?title=Austin_Dixon&diff=4435&oldid=4433')\n",
      "Completed batch: 2\n",
      "\n",
      " 1000 ('https://tinyurl.com/zbqselp', 'http://espn.go.com/blog/nflnation/tag/_/name/robert-mcclain')\n",
      "Completed batch: 3\n",
      "\n",
      " 1000 ('https://tinyurl.com/gm4wn59', 'http://freecode.com/tags/english?page=1&with=&without=838%2C3943')\n",
      "Completed batch: 4\n",
      "\n",
      " 1000 ('https://tinyurl.com/hc84rdu', 'https://techcrunch.com/tag/sling/')\n",
      "Completed batch: 5\n",
      "\n",
      " 1000 ('https://tinyurl.com/hbmkmjw', 'http://www.webmd.com/drugs/2/drug-17840/medi-seltzer-oral/details/list-interaction-medication')\n",
      "Completed batch: 6\n",
      "\n",
      " 1000 ('https://tinyurl.com/zmmyzo6', 'http://www.cnn.com/2012/08/09/business/korea-standard-chartered-hsbc/index.html')\n",
      "Completed batch: 7\n",
      "\n",
      " 1000 ('https://tinyurl.com/zag997a', 'http://www.thetimes.co.uk/tto/sport/football/clubs/chelsea/article3973847.ece')\n",
      "Completed batch: 8\n",
      "\n",
      " 1000 ('https://tinyurl.com/jnorzez', 'https://www.nytimes.com/glogin?URI=https%3A%2F%2Fwww.nytimes.com%2F2014%2F08%2F16%2Ftechnology%2Ffood-retailer-discloses-a-data-breach.html%3F_r%3D0')\n",
      "Completed batch: 9\n",
      "\n",
      " 907 ('https://tinyurl.com/hy7fdrv', 'http://c2.com/cgi-bin/wiki?MrGuruCoder')\n",
      "Completed batch: 10\n",
      "\n"
     ]
    }
   ],
   "source": [
    "bulk_shorten('sample-urls.txt', 'sample-tinyurls.csv')\n"
   ]
  },
  {
   "cell_type": "code",
   "execution_count": 26,
   "metadata": {
    "collapsed": false
   },
   "outputs": [
    {
     "name": "stdout",
     "output_type": "stream",
     "text": [
      "\n",
      "Skipping batch: 1\n",
      "\n",
      "\n",
      "Skipping batch: 2\n",
      "\n",
      "\n",
      "Skipping batch: 3\n",
      "\n",
      "\n",
      "Skipping batch: 4\n",
      "\n",
      "\n",
      "Skipping batch: 5\n",
      "\n",
      "\n",
      "Skipping batch: 6\n",
      "\n",
      "\n",
      "Skipping batch: 7\n",
      "\n",
      "\n",
      "Skipping batch: 8\n",
      "\n",
      "\n",
      "Skipping batch: 9\n",
      "\n",
      " 995 ('https://tinyurl.com/j3bjqna', 'http://www.marieclaire.com/beauty/articles/a5992/best-beauty-products/')\n",
      "Completed batch: 10\n",
      "\n"
     ]
    }
   ],
   "source": [
    "bulk_shorten('sample-urls.txt', 'sample-tinyurls.csv',\n",
    "             0.8, 10)\n"
   ]
  },
  {
   "cell_type": "code",
   "execution_count": null,
   "metadata": {
    "collapsed": true
   },
   "outputs": [],
   "source": []
  }
 ],
 "metadata": {
  "anaconda-cloud": {},
  "kernelspec": {
   "display_name": "Python 3",
   "language": "python",
   "name": "python3"
  },
  "language_info": {
   "codemirror_mode": {
    "name": "ipython",
    "version": 3
   },
   "file_extension": ".py",
   "mimetype": "text/x-python",
   "name": "python",
   "nbconvert_exporter": "python",
   "pygments_lexer": "ipython3",
   "version": "3.5.3"
  }
 },
 "nbformat": 4,
 "nbformat_minor": 1
}
