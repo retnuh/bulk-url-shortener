{
 "cells": [
  {
   "cell_type": "code",
   "execution_count": 1,
   "metadata": {
    "collapsed": true
   },
   "outputs": [],
   "source": [
    "from bs4 import BeautifulSoup\n",
    "import urllib.request\n",
    "import urllib.parse\n",
    "import re\n",
    "import time\n",
    "import csv"
   ]
  },
  {
   "cell_type": "code",
   "execution_count": 2,
   "metadata": {
    "collapsed": true
   },
   "outputs": [],
   "source": [
    "HTTP_PATTERN = re.compile(r\"https?://.*\")\n",
    "DEFAULT_PARSER = \"lxml\"\n",
    "\n",
    "def tinyurl(url):\n",
    "    if not HTTP_PATTERN.match(url):\n",
    "        return None\n",
    "    encoded_url = urllib.parse.urlencode({\"url\": url})\n",
    "    body = urllib.request.urlopen('https://tinyurl.com/create.php?' + encoded_url).read()\n",
    "    soup = BeautifulSoup(body, DEFAULT_PARSER)\n",
    "    return soup.find_all(\"b\")[1].get_text()"
   ]
  },
  {
   "cell_type": "code",
   "execution_count": 3,
   "metadata": {
    "collapsed": false
   },
   "outputs": [
    {
     "data": {
      "text/plain": [
       "'https://tinyurl.com/gm9e3'"
      ]
     },
     "execution_count": 3,
     "metadata": {},
     "output_type": "execute_result"
    }
   ],
   "source": [
    "tinyurl(\"https://tinyurl.com/\")"
   ]
  },
  {
   "cell_type": "code",
   "execution_count": 4,
   "metadata": {
    "collapsed": true
   },
   "outputs": [],
   "source": [
    "def fetch_tinyurls(batch, sleep=1):\n",
    "    urls = []\n",
    "    i = 1\n",
    "    for url in batch:\n",
    "        su = url.strip()\n",
    "        tu = tinyurl(su)\n",
    "        if tu:\n",
    "            t = (tu, su)\n",
    "            urls.append(t)\n",
    "            print(i, t)\n",
    "        i += 1\n",
    "        time.sleep(sleep)\n",
    "    return urls"
   ]
  },
  {
   "cell_type": "code",
   "execution_count": null,
   "metadata": {
    "collapsed": true
   },
   "outputs": [],
   "source": [
    "import itertools\n",
    "\n",
    "def grouper(iterable, n, fillvalue=None):\n",
    "    \"Collect data into fixed-length chunks or blocks\"\n",
    "    # grouper('ABCDEFG', 3, 'x') --> ABC DEF Gxx\"\n",
    "    args = [iter(iterable)] * n\n",
    "    return itertools.zip_longest(*args, fillvalue=fillvalue)\n"
   ]
  },
  {
   "cell_type": "code",
   "execution_count": 6,
   "metadata": {
    "collapsed": true
   },
   "outputs": [],
   "source": [
    "def write_tinyurls(tinyurl_tuples, output_filename):\n",
    "    with open(output_filename, \"a\", newline='') as out:\n",
    "        csv.writer(out).writerows(tinyurl_tuples)\n",
    "        "
   ]
  },
  {
   "cell_type": "code",
   "execution_count": 7,
   "metadata": {
    "collapsed": true
   },
   "outputs": [],
   "source": [
    "def bulk_shorten(input_filename, output_filename, sleep=1):\n",
    "    with open(input_filename) as file:\n",
    "        \n",
    "        tinyurl_tuples = fetch_tinyurls(input_filename, sleep)\n",
    "        write_tinyurls(tinyurl_tuples, output_filename)"
   ]
  },
  {
   "cell_type": "code",
   "execution_count": null,
   "metadata": {
    "collapsed": false
   },
   "outputs": [],
   "source": [
    "bulk_shorten('sample-urls.txt', 'sample-tinyurls.csv')"
   ]
  },
  {
   "cell_type": "code",
   "execution_count": null,
   "metadata": {
    "collapsed": false
   },
   "outputs": [],
   "source": [
    "bulk_shorten('/Volumes/HDD-2/zalando-aragog-crowdflower/golden-datasets/fashion-classifier/en/actual-experiments/sampled-training-urls/fashion-urls.txt', \n",
    "             '/Volumes/HDD-2/zalando-aragog-crowdflower/golden-datasets/fashion-classifier/en/actual-experiments/sampled-training-urls/fashion-tinyurls.csv')\n"
   ]
  },
  {
   "cell_type": "code",
   "execution_count": null,
   "metadata": {
    "collapsed": true
   },
   "outputs": [],
   "source": []
  }
 ],
 "metadata": {
  "anaconda-cloud": {},
  "kernelspec": {
   "display_name": "Python 3",
   "language": "python",
   "name": "python3"
  },
  "language_info": {
   "codemirror_mode": {
    "name": "ipython",
    "version": 3
   },
   "file_extension": ".py",
   "mimetype": "text/x-python",
   "name": "python",
   "nbconvert_exporter": "python",
   "pygments_lexer": "ipython3",
   "version": "3.5.3"
  }
 },
 "nbformat": 4,
 "nbformat_minor": 1
}
